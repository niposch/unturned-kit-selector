{
 "cells": [
  {
   "cell_type": "code",
   "execution_count": 38,
   "metadata": {
    "collapsed": true,
    "pycharm": {
     "name": "#%%\n"
    }
   },
   "outputs": [],
   "source": [
    "import pickle\n",
    "import re\n",
    "\n",
    "import jsonpickle as jsonpickle\n",
    "\n",
    "from item import Item\n"
   ]
  },
  {
   "cell_type": "code",
   "execution_count": 49,
   "outputs": [],
   "source": [
    "items:list[Item] = pickle.load(open('items.p', 'rb'))\n",
    "for item in items:\n",
    "    item.name = item.name.replace('\\n', '')\n",
    "    dimensions_regex = re.compile(r'\\((\\d+)x(\\d+)\\)(?: storage\\/inventory slots)')\n",
    "    matches = dimensions_regex.findall(item.description)\n",
    "    if len(matches) > 0:\n",
    "        item.additional_storage_horizontal = int(matches[0][0])\n",
    "        item.additional_storage_vertical = int(matches[0][1])\n",
    "\n"
   ],
   "metadata": {
    "collapsed": false,
    "pycharm": {
     "name": "#%%\n"
    }
   }
  },
  {
   "cell_type": "code",
   "execution_count": 50,
   "outputs": [],
   "source": [
    "# export items as json\n",
    "with open('items.json', 'w') as f:\n",
    "    json_str = jsonpickle.encode(items, unpicklable=False)\n",
    "    f.write(json_str)\n"
   ],
   "metadata": {
    "collapsed": false,
    "pycharm": {
     "name": "#%%\n"
    }
   }
  },
  {
   "cell_type": "code",
   "execution_count": 53,
   "outputs": [
    {
     "name": "stdout",
     "output_type": "stream",
     "text": [
      "2\n",
      "Work Jeans\n"
     ]
    },
    {
     "data": {
      "text/plain": "<PIL.PngImagePlugin.PngImageFile image mode=RGBA size=200x200>",
      "image/png": "[encoded data removed]"
     },
     "execution_count": 53,
     "metadata": {},
     "output_type": "execute_result"
    }
   ],
   "source": [
    "len(items)\n",
    "image_path = f\"./images/{items[0].item_id}.png\"\n",
    "# display image\n",
    "from PIL import Image\n",
    "img = Image.open(image_path)\n",
    "print(items[0].item_id)\n",
    "print(items[0].name)\n",
    "img\n"
   ],
   "metadata": {
    "collapsed": false,
    "pycharm": {
     "name": "#%%\n"
    }
   }
  },
  {
   "cell_type": "code",
   "execution_count": 52,
   "outputs": [
    {
     "name": "stdout",
     "output_type": "stream",
     "text": [
      "Rarities:\n",
      "['Common', 'Rare', 'Epic', 'Legendary', 'Uncommon', 'Mythical']\n",
      "Item Types:\n",
      "['Pants', 'Shirt', 'Gun', 'Sight', 'Magazine', 'Barrel', 'Grip', 'Backpack', 'Vest', 'Mask', 'Food', 'Drink', 'Medical', 'Melee', 'Glasses', 'Hat', 'Fuel', 'Barricade', 'Structure', 'Supply', 'Tactical', 'Miscellaneous', 'Throwable', 'Tool', 'Storage', 'Farm', 'Optic', 'Refill', 'Trap', 'Generator', 'Key', 'Box', 'Fishing Rod', 'Glider', 'Umbrella', 'Map', 'Beacon', 'Tank', 'Charge', 'Sentry']\n"
     ]
    }
   ],
   "source": [
    "print(\"Rarities:\")\n",
    "rarities = []\n",
    "for item in items:\n",
    "    if item.rarity not in rarities:\n",
    "        rarities.append(item.rarity)\n",
    "print(rarities)\n",
    "\n",
    "print(\"Item Types:\")\n",
    "types = []\n",
    "for item in items:\n",
    "    if item.type not in types:\n",
    "        types.append(item.type)\n",
    "print(types)"
   ],
   "metadata": {
    "collapsed": false,
    "pycharm": {
     "name": "#%%\n"
    }
   }
  }
 ],
 "metadata": {
  "kernelspec": {
   "display_name": "Python 3",
   "language": "python",
   "name": "python3"
  },
  "language_info": {
   "codemirror_mode": {
    "name": "ipython",
    "version": 2
   },
   "file_extension": ".py",
   "mimetype": "text/x-python",
   "name": "python",
   "nbconvert_exporter": "python",
   "pygments_lexer": "ipython2",
   "version": "2.7.6"
  }
 },
 "nbformat": 4,
 "nbformat_minor": 0
}